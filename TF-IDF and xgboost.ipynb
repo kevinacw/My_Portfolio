{
 "cells": [
  {
   "cell_type": "markdown",
   "metadata": {},
   "source": [
    "# TF- IDF\n",
    "The Bag of Words method which counts the number of words in a document. The first part of TF-IDF is term frequency which measures the number of times words appear in a document. It is sames as Bag of Words.\n",
    "The second part is inverse document frequency which measures the significance of the particular word. The more documents the word appear in, the less significant that word is.\n",
    "\n",
    "Steps to calculate the IDF are:\n",
    "\n",
    "1. Define input\n",
    "1. Calculate Term Frequency (TF)\n",
    "2. Calculate Inverse Document Frequency (IDF)\n",
    "3. Calculate TF-IDF\n",
    "4. Normalize the results\n",
    "\n"
   ]
  },
  {
   "cell_type": "markdown",
   "metadata": {},
   "source": [
    "## Define input"
   ]
  },
  {
   "cell_type": "code",
   "execution_count": 2,
   "metadata": {},
   "outputs": [
    {
     "data": {
      "text/plain": [
       "['I love dogs',\n",
       " 'I hate dogs and knitting',\n",
       " 'Knitting is my hobby and my passion']"
      ]
     },
     "execution_count": 2,
     "metadata": {},
     "output_type": "execute_result"
    }
   ],
   "source": [
    "corpus = [\n",
    "'I love dogs',\n",
    "'I hate dogs and knitting',\n",
    "'Knitting is my hobby and my passion']\n",
    "\n",
    "corpus"
   ]
  },
  {
   "cell_type": "markdown",
   "metadata": {},
   "source": [
    "## Calculate Term Frequency (TF)"
   ]
  },
  {
   "cell_type": "code",
   "execution_count": 3,
   "metadata": {},
   "outputs": [
    {
     "data": {
      "text/html": [
       "<div>\n",
       "<style scoped>\n",
       "    .dataframe tbody tr th:only-of-type {\n",
       "        vertical-align: middle;\n",
       "    }\n",
       "\n",
       "    .dataframe tbody tr th {\n",
       "        vertical-align: top;\n",
       "    }\n",
       "\n",
       "    .dataframe thead th {\n",
       "        text-align: right;\n",
       "    }\n",
       "</style>\n",
       "<table border=\"1\" class=\"dataframe\">\n",
       "  <thead>\n",
       "    <tr style=\"text-align: right;\">\n",
       "      <th></th>\n",
       "      <th>and</th>\n",
       "      <th>dogs</th>\n",
       "      <th>hate</th>\n",
       "      <th>hobby</th>\n",
       "      <th>is</th>\n",
       "      <th>knitting</th>\n",
       "      <th>love</th>\n",
       "      <th>my</th>\n",
       "      <th>passion</th>\n",
       "    </tr>\n",
       "  </thead>\n",
       "  <tbody>\n",
       "    <tr>\n",
       "      <th>0</th>\n",
       "      <td>0</td>\n",
       "      <td>1</td>\n",
       "      <td>0</td>\n",
       "      <td>0</td>\n",
       "      <td>0</td>\n",
       "      <td>0</td>\n",
       "      <td>1</td>\n",
       "      <td>0</td>\n",
       "      <td>0</td>\n",
       "    </tr>\n",
       "    <tr>\n",
       "      <th>1</th>\n",
       "      <td>1</td>\n",
       "      <td>1</td>\n",
       "      <td>1</td>\n",
       "      <td>0</td>\n",
       "      <td>0</td>\n",
       "      <td>1</td>\n",
       "      <td>0</td>\n",
       "      <td>0</td>\n",
       "      <td>0</td>\n",
       "    </tr>\n",
       "    <tr>\n",
       "      <th>2</th>\n",
       "      <td>1</td>\n",
       "      <td>0</td>\n",
       "      <td>0</td>\n",
       "      <td>1</td>\n",
       "      <td>1</td>\n",
       "      <td>1</td>\n",
       "      <td>0</td>\n",
       "      <td>2</td>\n",
       "      <td>1</td>\n",
       "    </tr>\n",
       "  </tbody>\n",
       "</table>\n",
       "</div>"
      ],
      "text/plain": [
       "   and  dogs  hate  hobby  is  knitting  love  my  passion\n",
       "0    0     1     0      0   0         0     1   0        0\n",
       "1    1     1     1      0   0         1     0   0        0\n",
       "2    1     0     0      1   1         1     0   2        1"
      ]
     },
     "execution_count": 3,
     "metadata": {},
     "output_type": "execute_result"
    }
   ],
   "source": [
    "#The method is the same as Bag of Words notebook\n",
    "from sklearn.feature_extraction.text import CountVectorizer\n",
    "\n",
    "import pandas as pd\n",
    "import numpy as np\n",
    "\n",
    "count_vectorizer=CountVectorizer()\n",
    "\n",
    "word_count=count_vectorizer.fit_transform(corpus)\n",
    "\n",
    "# Create a dataframe and store the number of times a word appear in a document\n",
    "df = pd.DataFrame(word_count.toarray(), columns = count_vectorizer.get_feature_names())\n",
    "df\n"
   ]
  },
  {
   "cell_type": "markdown",
   "metadata": {},
   "source": [
    "## Calculate Inverse Document Frequency (IDF)"
   ]
  },
  {
   "cell_type": "markdown",
   "metadata": {},
   "source": [
    "The formula for <B>IDF = log(N/df(t))</B> where N is the number of documents and df(t) is the document frequency of t;that is the number of documents that contain the term t. <br> \n",
    "\n",
    "Here we are using this formula <B>1 + log(N/df(t))</B> to calculate IDF. We are adding 1 to the above formula because the terms with 0 IDf that is terms that occur in all documents can't be ignored completely. \n",
    "\n",
    "For example,\n",
    "\n",
    "Number of documents = 2<Br>\n",
    "Number of documents that contain the term t = 2\n",
    "\n",
    "Using this formula: IDF = log(N/df(t)), we get the IDF score of 0 as log of 1 is zero. But by adding 1 to this formula we can consider that word in TF-IDF calculation.\n",
    "\n"
   ]
  },
  {
   "cell_type": "markdown",
   "metadata": {},
   "source": [
    "### (Example)Calculate IDF for a single word"
   ]
  },
  {
   "cell_type": "code",
   "execution_count": 5,
   "metadata": {},
   "outputs": [],
   "source": [
    "a=np.log(100)# 不寫底數時默認以e爲底,i.e ln(100)"
   ]
  },
  {
   "cell_type": "code",
   "execution_count": 6,
   "metadata": {},
   "outputs": [
    {
     "data": {
      "text/plain": [
       "4.605170185988092"
      ]
     },
     "execution_count": 6,
     "metadata": {},
     "output_type": "execute_result"
    }
   ],
   "source": [
    "a"
   ]
  },
  {
   "cell_type": "code",
   "execution_count": 7,
   "metadata": {},
   "outputs": [
    {
     "data": {
      "text/plain": [
       "0.4054651081081644"
      ]
     },
     "execution_count": 7,
     "metadata": {},
     "output_type": "execute_result"
    }
   ],
   "source": [
    "num_of_docs = 3\n",
    "docs_containing_the_word_and = 2\n",
    "\n",
    "# Calculate IDF\n",
    "idf = np.log(num_of_docs / docs_containing_the_word_and)\n",
    "idf"
   ]
  },
  {
   "cell_type": "code",
   "execution_count": 8,
   "metadata": {},
   "outputs": [
    {
     "data": {
      "text/plain": [
       "1.4054651081081644"
      ]
     },
     "execution_count": 8,
     "metadata": {},
     "output_type": "execute_result"
    }
   ],
   "source": [
    "idf = np.log(num_of_docs / docs_containing_the_word_and) + 1\n",
    "idf"
   ]
  },
  {
   "cell_type": "markdown",
   "metadata": {},
   "source": [
    "## Calculate TF-IDF\n",
    "TF-IDF is calculated by multiplying TF with IDF.\n",
    "\n",
    "TF-IDF = TF * IDF"
   ]
  },
  {
   "cell_type": "markdown",
   "metadata": {},
   "source": [
    "# TF-IDF(no normalize)"
   ]
  },
  {
   "cell_type": "code",
   "execution_count": 19,
   "metadata": {},
   "outputs": [
    {
     "data": {
      "text/html": [
       "<div>\n",
       "<style scoped>\n",
       "    .dataframe tbody tr th:only-of-type {\n",
       "        vertical-align: middle;\n",
       "    }\n",
       "\n",
       "    .dataframe tbody tr th {\n",
       "        vertical-align: top;\n",
       "    }\n",
       "\n",
       "    .dataframe thead th {\n",
       "        text-align: right;\n",
       "    }\n",
       "</style>\n",
       "<table border=\"1\" class=\"dataframe\">\n",
       "  <thead>\n",
       "    <tr style=\"text-align: right;\">\n",
       "      <th></th>\n",
       "      <th>dogs</th>\n",
       "      <th>hate</th>\n",
       "      <th>hobby</th>\n",
       "      <th>knitting</th>\n",
       "      <th>love</th>\n",
       "      <th>passion</th>\n",
       "    </tr>\n",
       "  </thead>\n",
       "  <tbody>\n",
       "    <tr>\n",
       "      <th>0</th>\n",
       "      <td>1.41</td>\n",
       "      <td>0.0</td>\n",
       "      <td>0.0</td>\n",
       "      <td>0.00</td>\n",
       "      <td>2.1</td>\n",
       "      <td>0.0</td>\n",
       "    </tr>\n",
       "    <tr>\n",
       "      <th>1</th>\n",
       "      <td>1.41</td>\n",
       "      <td>2.1</td>\n",
       "      <td>0.0</td>\n",
       "      <td>1.41</td>\n",
       "      <td>0.0</td>\n",
       "      <td>0.0</td>\n",
       "    </tr>\n",
       "    <tr>\n",
       "      <th>2</th>\n",
       "      <td>0.00</td>\n",
       "      <td>0.0</td>\n",
       "      <td>2.1</td>\n",
       "      <td>1.41</td>\n",
       "      <td>0.0</td>\n",
       "      <td>2.1</td>\n",
       "    </tr>\n",
       "  </tbody>\n",
       "</table>\n",
       "</div>"
      ],
      "text/plain": [
       "   dogs  hate  hobby  knitting  love  passion\n",
       "0  1.41   0.0    0.0      0.00   2.1      0.0\n",
       "1  1.41   2.1    0.0      1.41   0.0      0.0\n",
       "2  0.00   0.0    2.1      1.41   0.0      2.1"
      ]
     },
     "execution_count": 19,
     "metadata": {},
     "output_type": "execute_result"
    }
   ],
   "source": [
    "# Import TfidfVectorizer from sklearn\n",
    "from sklearn.feature_extraction.text import TfidfVectorizer\n",
    "\n",
    "tfidf_vectorizer = TfidfVectorizer(smooth_idf=False, norm=None, stop_words='english')\n",
    "\n",
    "# Fit the model using fit_transform function\n",
    "#fit and transform at the same time\n",
    "tfidf_scores = tfidf_vectorizer.fit_transform(corpus)\n",
    "\n",
    "# Print TF-IDF score \n",
    "df = pd.DataFrame(np.round(tfidf_scores.toarray(),2), columns = tfidf_vectorizer.get_feature_names())\n",
    "df"
   ]
  },
  {
   "cell_type": "markdown",
   "metadata": {},
   "source": [
    "## Normalize the results\n",
    "Normalize the results setting norm = l2\n",
    "\n",
    "If norm = 'l2' (the default),each output row will have unit norm, i.e. sum of squares of vector elements is 1\n",
    "\n",
    "\n",
    "if norm = 'l1', sum of absolute values of vector elements is 1\n"
   ]
  },
  {
   "cell_type": "markdown",
   "metadata": {},
   "source": [
    "# TF-IDF(normalize)"
   ]
  },
  {
   "cell_type": "code",
   "execution_count": 20,
   "metadata": {},
   "outputs": [
    {
     "data": {
      "text/html": [
       "<div>\n",
       "<style scoped>\n",
       "    .dataframe tbody tr th:only-of-type {\n",
       "        vertical-align: middle;\n",
       "    }\n",
       "\n",
       "    .dataframe tbody tr th {\n",
       "        vertical-align: top;\n",
       "    }\n",
       "\n",
       "    .dataframe thead th {\n",
       "        text-align: right;\n",
       "    }\n",
       "</style>\n",
       "<table border=\"1\" class=\"dataframe\">\n",
       "  <thead>\n",
       "    <tr style=\"text-align: right;\">\n",
       "      <th></th>\n",
       "      <th>and</th>\n",
       "      <th>dogs</th>\n",
       "      <th>hate</th>\n",
       "      <th>hobby</th>\n",
       "      <th>is</th>\n",
       "      <th>knitting</th>\n",
       "      <th>love</th>\n",
       "      <th>my</th>\n",
       "      <th>passion</th>\n",
       "    </tr>\n",
       "  </thead>\n",
       "  <tbody>\n",
       "    <tr>\n",
       "      <th>0</th>\n",
       "      <td>0.00</td>\n",
       "      <td>0.56</td>\n",
       "      <td>0.00</td>\n",
       "      <td>0.00</td>\n",
       "      <td>0.00</td>\n",
       "      <td>0.00</td>\n",
       "      <td>0.83</td>\n",
       "      <td>0.00</td>\n",
       "      <td>0.00</td>\n",
       "    </tr>\n",
       "    <tr>\n",
       "      <th>1</th>\n",
       "      <td>0.44</td>\n",
       "      <td>0.44</td>\n",
       "      <td>0.65</td>\n",
       "      <td>0.00</td>\n",
       "      <td>0.00</td>\n",
       "      <td>0.44</td>\n",
       "      <td>0.00</td>\n",
       "      <td>0.00</td>\n",
       "      <td>0.00</td>\n",
       "    </tr>\n",
       "    <tr>\n",
       "      <th>2</th>\n",
       "      <td>0.24</td>\n",
       "      <td>0.00</td>\n",
       "      <td>0.00</td>\n",
       "      <td>0.36</td>\n",
       "      <td>0.36</td>\n",
       "      <td>0.24</td>\n",
       "      <td>0.00</td>\n",
       "      <td>0.71</td>\n",
       "      <td>0.36</td>\n",
       "    </tr>\n",
       "  </tbody>\n",
       "</table>\n",
       "</div>"
      ],
      "text/plain": [
       "    and  dogs  hate  hobby    is  knitting  love    my  passion\n",
       "0  0.00  0.56  0.00   0.00  0.00      0.00  0.83  0.00     0.00\n",
       "1  0.44  0.44  0.65   0.00  0.00      0.44  0.00  0.00     0.00\n",
       "2  0.24  0.00  0.00   0.36  0.36      0.24  0.00  0.71     0.36"
      ]
     },
     "execution_count": 20,
     "metadata": {},
     "output_type": "execute_result"
    }
   ],
   "source": [
    "tfidf_vectorizer = TfidfVectorizer(smooth_idf=False, use_idf=True, lowercase=True, norm=\"l2\")\n",
    "tfidf_scores = tfidf_vectorizer.fit_transform(corpus)\n",
    "df = pd.DataFrame(np.round(tfidf_scores.toarray(),2), columns = tfidf_vectorizer.get_feature_names())\n",
    "df"
   ]
  },
  {
   "cell_type": "markdown",
   "metadata": {},
   "source": [
    "# XGBoost Model\n",
    "\n",
    "In this notebook, we will learn to use TF-IDF model and predict sentiment of the news headlines. The steps involved are:\n",
    "1. Read data\n",
    "2. Determine target variables\n",
    "3. Create predictor variables\n",
    "4. Split data into train and test \n",
    "5. Apply TF-IDF on train and test dataset\n",
    "6. Run XGBoost on the train dataset\n",
    "7. Predict sentiment scores on the test dataset\n",
    "8. Analyse the results"
   ]
  },
  {
   "cell_type": "markdown",
   "metadata": {},
   "source": [
    "### The first four steps are discussed in the bag of words to XGBoost model. "
   ]
  },
  {
   "cell_type": "code",
   "execution_count": 21,
   "metadata": {},
   "outputs": [],
   "source": [
    "# Import pandas\n",
    "import pandas as pd\n",
    "\n",
    "# Read news sentiment data\n",
    "news_sentiment_data = pd.read_csv('news_headline_sentiments.csv')\n",
    "news_sentiment_data.head()\n",
    "\n",
    "# Store sentiment_class in y\n",
    "y = news_sentiment_data.sentiment_class\n",
    "\n",
    "# Store news headlines in X\n",
    "X = news_sentiment_data.news_headline\n",
    "\n",
    "# Convert X in string if the value of x is not string\n",
    "X = [str(x) if type(x) != str else x for x in X]\n",
    "\n",
    "test_ratio = 0.2\n",
    "train_ratio = 1.0 - test_ratio\n",
    "\n",
    "num_train = int(train_ratio * len(X))\n",
    "\n",
    "# X_train and Y_train are training dataset. X_test and Y_test are testing dataset.\n",
    "X_train = X[:num_train]\n",
    "y_train = y[:num_train]\n",
    "X_test = X[num_train:]\n",
    "y_test = y[num_train:]"
   ]
  },
  {
   "cell_type": "markdown",
   "metadata": {},
   "source": [
    "### The fifth step is converting train and text dataset into vectors using TF-IDF method. This step is discussed in TF-IDF model. "
   ]
  },
  {
   "cell_type": "code",
   "execution_count": 22,
   "metadata": {},
   "outputs": [],
   "source": [
    "# Import TfidfVectorizer from sklearn\n",
    "from sklearn.feature_extraction.text import TfidfVectorizer\n",
    "\n",
    "# Initialize TfidfVectorizer and required arguments to process the data\n",
    "tfidf_vectorizer = TfidfVectorizer(smooth_idf=False, use_idf=True, stop_words='english', lowercase=True)\n",
    "\n",
    "# Fit and transform the model on train dataet\n",
    "X_new_train = tfidf_vectorizer.fit_transform(X_train)\n",
    "\n",
    "# Transform the test dataset\n",
    "X_new_test = tfidf_vectorizer.transform(X_test)"
   ]
  },
  {
   "cell_type": "markdown",
   "metadata": {},
   "source": [
    "### The next three step is similar to the bag of words to the XGBoost model."
   ]
  },
  {
   "cell_type": "code",
   "execution_count": 23,
   "metadata": {},
   "outputs": [
    {
     "name": "stdout",
     "output_type": "stream",
     "text": [
      "0.7864180339549152\n"
     ]
    }
   ],
   "source": [
    "# Import XGBClassifier from xgboost\n",
    "from xgboost import XGBClassifier\n",
    "\n",
    "# Instantiate XGBClassifier\n",
    "xg = XGBClassifier(max_depth = 6, n_estimators = 100)\n",
    "\n",
    "# Fit the model on train dataset\n",
    "xg_model = xg.fit(X_new_train,y_train)\n",
    "\n",
    "# Predict sentiment class on the test dataset\n",
    "prediction = xg_model.predict(X_new_test)\n",
    "\n",
    "# Print the model accuracy\n",
    "from sklearn.metrics import accuracy_score \n",
    "print(accuracy_score(y_test,prediction))"
   ]
  },
  {
   "cell_type": "code",
   "execution_count": null,
   "metadata": {},
   "outputs": [],
   "source": []
  }
 ],
 "metadata": {
  "kernelspec": {
   "display_name": "Python 3",
   "language": "python",
   "name": "python3"
  },
  "language_info": {
   "codemirror_mode": {
    "name": "ipython",
    "version": 3
   },
   "file_extension": ".py",
   "mimetype": "text/x-python",
   "name": "python",
   "nbconvert_exporter": "python",
   "pygments_lexer": "ipython3",
   "version": "3.7.3"
  }
 },
 "nbformat": 4,
 "nbformat_minor": 2
}
