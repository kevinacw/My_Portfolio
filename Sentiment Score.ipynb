{
 "cells": [
  {
   "cell_type": "markdown",
   "metadata": {},
   "source": [
    "# Read news headline data for \"AAPL\""
   ]
  },
  {
   "cell_type": "code",
   "execution_count": 1,
   "metadata": {},
   "outputs": [
    {
     "data": {
      "text/html": [
       "<div>\n",
       "<style scoped>\n",
       "    .dataframe tbody tr th:only-of-type {\n",
       "        vertical-align: middle;\n",
       "    }\n",
       "\n",
       "    .dataframe tbody tr th {\n",
       "        vertical-align: top;\n",
       "    }\n",
       "\n",
       "    .dataframe thead th {\n",
       "        text-align: right;\n",
       "    }\n",
       "</style>\n",
       "<table border=\"1\" class=\"dataframe\">\n",
       "  <thead>\n",
       "    <tr style=\"text-align: right;\">\n",
       "      <th></th>\n",
       "      <th>Unnamed: 0</th>\n",
       "      <th>Unnamed: 0.1</th>\n",
       "      <th>news_headline</th>\n",
       "      <th>time_stamp</th>\n",
       "      <th>URL</th>\n",
       "      <th>source_id</th>\n",
       "      <th>sentiment_class</th>\n",
       "      <th>sentiment_scores</th>\n",
       "    </tr>\n",
       "  </thead>\n",
       "  <tbody>\n",
       "    <tr>\n",
       "      <th>0</th>\n",
       "      <td>29</td>\n",
       "      <td>2012757</td>\n",
       "      <td>apple will refund at least $32.5m in app case</td>\n",
       "      <td>2014-01-27 10:17:47-08:00</td>\n",
       "      <td>//www.suntimes.com/business/24974362-420/apple...</td>\n",
       "      <td>1303</td>\n",
       "      <td>0</td>\n",
       "      <td>0.0</td>\n",
       "    </tr>\n",
       "    <tr>\n",
       "      <th>1</th>\n",
       "      <td>169</td>\n",
       "      <td>2012707</td>\n",
       "      <td>icahn raises apple stake, now owns $3b in stock</td>\n",
       "      <td>2014-01-27 10:17:47-08:00</td>\n",
       "      <td>//www.suntimes.com/business/25119767-420/icahn...</td>\n",
       "      <td>1303</td>\n",
       "      <td>0</td>\n",
       "      <td>0.0</td>\n",
       "    </tr>\n",
       "    <tr>\n",
       "      <th>2</th>\n",
       "      <td>616</td>\n",
       "      <td>2012614</td>\n",
       "      <td>apple: people spent $10b in its app store in 2013</td>\n",
       "      <td>2014-01-27 10:17:47-08:00</td>\n",
       "      <td>//www.suntimes.com/business/24816093-420/apple...</td>\n",
       "      <td>1303</td>\n",
       "      <td>0</td>\n",
       "      <td>0.0</td>\n",
       "    </tr>\n",
       "    <tr>\n",
       "      <th>3</th>\n",
       "      <td>618</td>\n",
       "      <td>2007933</td>\n",
       "      <td>apple s mac still influencing computing, 30 ye...</td>\n",
       "      <td>2014-01-27 10:17:47-08:00</td>\n",
       "      <td>http://www.nbcnews.com/business/apples-mac-sti...</td>\n",
       "      <td>1288</td>\n",
       "      <td>0</td>\n",
       "      <td>0.0</td>\n",
       "    </tr>\n",
       "    <tr>\n",
       "      <th>4</th>\n",
       "      <td>726</td>\n",
       "      <td>2011678</td>\n",
       "      <td>new apple tv set-top box expected in first hal...</td>\n",
       "      <td>2014-01-27 10:17:47-08:00</td>\n",
       "      <td>/business/technology/la-fi-tn-new-apple-tv-fir...</td>\n",
       "      <td>1298</td>\n",
       "      <td>0</td>\n",
       "      <td>0.0</td>\n",
       "    </tr>\n",
       "  </tbody>\n",
       "</table>\n",
       "</div>"
      ],
      "text/plain": [
       "   Unnamed: 0  Unnamed: 0.1  \\\n",
       "0          29       2012757   \n",
       "1         169       2012707   \n",
       "2         616       2012614   \n",
       "3         618       2007933   \n",
       "4         726       2011678   \n",
       "\n",
       "                                       news_headline  \\\n",
       "0      apple will refund at least $32.5m in app case   \n",
       "1    icahn raises apple stake, now owns $3b in stock   \n",
       "2  apple: people spent $10b in its app store in 2013   \n",
       "3  apple s mac still influencing computing, 30 ye...   \n",
       "4  new apple tv set-top box expected in first hal...   \n",
       "\n",
       "                  time_stamp  \\\n",
       "0  2014-01-27 10:17:47-08:00   \n",
       "1  2014-01-27 10:17:47-08:00   \n",
       "2  2014-01-27 10:17:47-08:00   \n",
       "3  2014-01-27 10:17:47-08:00   \n",
       "4  2014-01-27 10:17:47-08:00   \n",
       "\n",
       "                                                 URL  source_id  \\\n",
       "0  //www.suntimes.com/business/24974362-420/apple...       1303   \n",
       "1  //www.suntimes.com/business/25119767-420/icahn...       1303   \n",
       "2  //www.suntimes.com/business/24816093-420/apple...       1303   \n",
       "3  http://www.nbcnews.com/business/apples-mac-sti...       1288   \n",
       "4  /business/technology/la-fi-tn-new-apple-tv-fir...       1298   \n",
       "\n",
       "   sentiment_class  sentiment_scores  \n",
       "0                0               0.0  \n",
       "1                0               0.0  \n",
       "2                0               0.0  \n",
       "3                0               0.0  \n",
       "4                0               0.0  "
      ]
     },
     "execution_count": 1,
     "metadata": {},
     "output_type": "execute_result"
    }
   ],
   "source": [
    "import pandas as pd\n",
    "apple_headlines_data=pd.read_csv('news_headline_sentiments_aapl.csv',parse_dates=True)\n",
    "apple_headlines_data.head(5)"
   ]
  },
  {
   "cell_type": "markdown",
   "metadata": {},
   "source": [
    "# Get the required column"
   ]
  },
  {
   "cell_type": "code",
   "execution_count": 2,
   "metadata": {},
   "outputs": [
    {
     "data": {
      "text/html": [
       "<div>\n",
       "<style scoped>\n",
       "    .dataframe tbody tr th:only-of-type {\n",
       "        vertical-align: middle;\n",
       "    }\n",
       "\n",
       "    .dataframe tbody tr th {\n",
       "        vertical-align: top;\n",
       "    }\n",
       "\n",
       "    .dataframe thead th {\n",
       "        text-align: right;\n",
       "    }\n",
       "</style>\n",
       "<table border=\"1\" class=\"dataframe\">\n",
       "  <thead>\n",
       "    <tr style=\"text-align: right;\">\n",
       "      <th></th>\n",
       "      <th>time_stamp</th>\n",
       "      <th>news_headline</th>\n",
       "      <th>sentiment_class</th>\n",
       "      <th>sentiment_scores</th>\n",
       "    </tr>\n",
       "  </thead>\n",
       "  <tbody>\n",
       "    <tr>\n",
       "      <th>0</th>\n",
       "      <td>2014-01-27 18:17:47+00:00</td>\n",
       "      <td>apple will refund at least $32.5m in app case</td>\n",
       "      <td>0</td>\n",
       "      <td>0.0</td>\n",
       "    </tr>\n",
       "    <tr>\n",
       "      <th>1</th>\n",
       "      <td>2014-01-27 18:17:47+00:00</td>\n",
       "      <td>icahn raises apple stake, now owns $3b in stock</td>\n",
       "      <td>0</td>\n",
       "      <td>0.0</td>\n",
       "    </tr>\n",
       "    <tr>\n",
       "      <th>2</th>\n",
       "      <td>2014-01-27 18:17:47+00:00</td>\n",
       "      <td>apple: people spent $10b in its app store in 2013</td>\n",
       "      <td>0</td>\n",
       "      <td>0.0</td>\n",
       "    </tr>\n",
       "    <tr>\n",
       "      <th>3</th>\n",
       "      <td>2014-01-27 18:17:47+00:00</td>\n",
       "      <td>apple s mac still influencing computing, 30 ye...</td>\n",
       "      <td>0</td>\n",
       "      <td>0.0</td>\n",
       "    </tr>\n",
       "    <tr>\n",
       "      <th>4</th>\n",
       "      <td>2014-01-27 18:17:47+00:00</td>\n",
       "      <td>new apple tv set-top box expected in first hal...</td>\n",
       "      <td>0</td>\n",
       "      <td>0.0</td>\n",
       "    </tr>\n",
       "  </tbody>\n",
       "</table>\n",
       "</div>"
      ],
      "text/plain": [
       "                 time_stamp  \\\n",
       "0 2014-01-27 18:17:47+00:00   \n",
       "1 2014-01-27 18:17:47+00:00   \n",
       "2 2014-01-27 18:17:47+00:00   \n",
       "3 2014-01-27 18:17:47+00:00   \n",
       "4 2014-01-27 18:17:47+00:00   \n",
       "\n",
       "                                       news_headline  sentiment_class  \\\n",
       "0      apple will refund at least $32.5m in app case                0   \n",
       "1    icahn raises apple stake, now owns $3b in stock                0   \n",
       "2  apple: people spent $10b in its app store in 2013                0   \n",
       "3  apple s mac still influencing computing, 30 ye...                0   \n",
       "4  new apple tv set-top box expected in first hal...                0   \n",
       "\n",
       "   sentiment_scores  \n",
       "0               0.0  \n",
       "1               0.0  \n",
       "2               0.0  \n",
       "3               0.0  \n",
       "4               0.0  "
      ]
     },
     "execution_count": 2,
     "metadata": {},
     "output_type": "execute_result"
    }
   ],
   "source": [
    "# Get the required columns used in the strategy\n",
    "data=apple_headlines_data.loc[:,['time_stamp','news_headline','sentiment_class','sentiment_scores']]\n",
    "\n",
    "#convert time column in date-time format\n",
    "data['time_stamp']=pd.to_datetime(data['time_stamp'],utc=True)\n",
    "\n",
    "# Sort the dataframe by datetime\n",
    "data.sort_values(by='time_stamp',inplace=True)\n",
    "data.head()"
   ]
  },
  {
   "cell_type": "markdown",
   "metadata": {},
   "source": [
    "## Calculate trading time for each news headline"
   ]
  },
  {
   "cell_type": "markdown",
   "metadata": {},
   "source": [
    "We will fetch all the headlines that were made between the previous day's close and next day's open.\n",
    "\n",
    "To do this, we will use a function called get_trade_open which will give you the market open time when a particular headline should be used. In the function, we have followed following steps.\n",
    "1. Calculate the current day opening time\n",
    "2. Calculate the current day closing time\n",
    "3. Calculate the previous day closing time\n",
    "4. Calculate next day opening time\n",
    "4. If the headline was made after the previous day's market close and before today's market open, then this column will contain the today's market open date and time.\n",
    "5. Similarly, if the headline was made after the current day's market close and before next day's market open, then this column will contain the next day's market open date and time.\n",
    "\n",
    "Note: News headline during the market hours will be ignored and will not be considered in sentiment calculation.\n",
    "\n",
    "\n",
    "We will use the pandas function BDay to determine the next and previous business/trading day's dates."
   ]
  },
  {
   "cell_type": "code",
   "execution_count": 3,
   "metadata": {},
   "outputs": [
    {
     "data": {
      "text/plain": [
       "Timestamp('2014-01-27 18:17:47+0000', tz='UTC')"
      ]
     },
     "execution_count": 3,
     "metadata": {},
     "output_type": "execute_result"
    }
   ],
   "source": [
    "#import datetime\n",
    "from datetime import datetime,timedelta\n",
    "\n",
    "#import BDay yo determine business day's dates\n",
    "from pandas.tseries.offsets import BDay\n",
    "\n",
    "#fetch the first date of the headline\n",
    "date=data.time_stamp.iloc[0]\n",
    "date"
   ]
  },
  {
   "cell_type": "code",
   "execution_count": 5,
   "metadata": {},
   "outputs": [],
   "source": [
    "def get_trade_open(date):\n",
    "    \n",
    "    # If the headline was made on a weekend then subtract BDay(0) to fetch the next business day's market open time\n",
    "    #pd.to_datetime(date).floor('d'), which set all the value is 00:00:00:\n",
    "    curr_date_open = pd.to_datetime(date).floor('d').replace(hour=9,minute=30) - BDay(0)\n",
    "    \n",
    "    # If the tweet was made on a weekend then subtract  BDay(0) to fetch the next business day's market close time\n",
    "    curr_date_close = pd.to_datetime(date).floor('d').replace(hour=16,minute=0) - BDay(0)\n",
    "    \n",
    "    # Calculate the previous business day's market close time for the headline \n",
    "    prev_date_close = (curr_date_open - BDay()).replace(hour=16,minute=0)\n",
    "    \n",
    "    # Calculate the next business day's market open time for the headline \n",
    "    next_date_open = (curr_date_close + BDay()).replace(hour=9,minute=30)\n",
    "    \n",
    "    # If the tweet was made after the close of the previous business day and\n",
    "    # on the next day before the market opens then the function assigns the curr_date_open as the opening time\n",
    "    # when this tweet should be used to trade\n",
    "    if ((pd.to_datetime(date)>=prev_date_close) & (pd.to_datetime(date)<curr_date_open)):\n",
    "        return curr_date_open\n",
    "    \n",
    "    # If the tweet was made after the close of the current business day and\n",
    "    # on the next day open then the function assigns the next_date_open as the opening time\n",
    "    # when this tweet should be used to trade\n",
    "    elif ((pd.to_datetime(date)>=curr_date_close) & (pd.to_datetime(date)<next_date_open)):\n",
    "        return next_date_open\n",
    "    \n",
    "    else:\n",
    "        return None\n",
    "    "
   ]
  },
  {
   "cell_type": "code",
   "execution_count": 6,
   "metadata": {},
   "outputs": [],
   "source": [
    "# Apply the above function to get the trading time for each news headline\n",
    "data[\"trading_time\"] = data[\"time_stamp\"].apply(get_trade_open)"
   ]
  },
  {
   "cell_type": "code",
   "execution_count": 7,
   "metadata": {},
   "outputs": [
    {
     "data": {
      "text/html": [
       "<div>\n",
       "<style scoped>\n",
       "    .dataframe tbody tr th:only-of-type {\n",
       "        vertical-align: middle;\n",
       "    }\n",
       "\n",
       "    .dataframe tbody tr th {\n",
       "        vertical-align: top;\n",
       "    }\n",
       "\n",
       "    .dataframe thead th {\n",
       "        text-align: right;\n",
       "    }\n",
       "</style>\n",
       "<table border=\"1\" class=\"dataframe\">\n",
       "  <thead>\n",
       "    <tr style=\"text-align: right;\">\n",
       "      <th></th>\n",
       "      <th>time_stamp</th>\n",
       "      <th>news_headline</th>\n",
       "      <th>sentiment_class</th>\n",
       "      <th>sentiment_scores</th>\n",
       "      <th>trading_time</th>\n",
       "    </tr>\n",
       "  </thead>\n",
       "  <tbody>\n",
       "    <tr>\n",
       "      <th>15302</th>\n",
       "      <td>2016-05-30 01:15:01+00:00</td>\n",
       "      <td>commerce ministry favours local sourcing waive...</td>\n",
       "      <td>1</td>\n",
       "      <td>0.4215</td>\n",
       "      <td>2016-05-30 09:30:00+00:00</td>\n",
       "    </tr>\n",
       "    <tr>\n",
       "      <th>15310</th>\n",
       "      <td>2016-05-30 01:45:01+00:00</td>\n",
       "      <td>commerce ministry turns down apple?s proposal ...</td>\n",
       "      <td>-1</td>\n",
       "      <td>-0.1880</td>\n",
       "      <td>2016-05-30 09:30:00+00:00</td>\n",
       "    </tr>\n",
       "    <tr>\n",
       "      <th>15311</th>\n",
       "      <td>2016-05-30 01:45:01+00:00</td>\n",
       "      <td>nirmala sitharaman may help pave way for apple...</td>\n",
       "      <td>1</td>\n",
       "      <td>0.4019</td>\n",
       "      <td>2016-05-30 09:30:00+00:00</td>\n",
       "    </tr>\n",
       "    <tr>\n",
       "      <th>15309</th>\n",
       "      <td>2016-05-30 01:45:01+00:00</td>\n",
       "      <td>apple?s refurbished iphone plan: govt not in f...</td>\n",
       "      <td>-1</td>\n",
       "      <td>-0.4952</td>\n",
       "      <td>2016-05-30 09:30:00+00:00</td>\n",
       "    </tr>\n",
       "    <tr>\n",
       "      <th>15312</th>\n",
       "      <td>2016-05-30 02:15:02+00:00</td>\n",
       "      <td>discussing apple's request for local sourcing ...</td>\n",
       "      <td>0</td>\n",
       "      <td>0.0000</td>\n",
       "      <td>2016-05-30 09:30:00+00:00</td>\n",
       "    </tr>\n",
       "  </tbody>\n",
       "</table>\n",
       "</div>"
      ],
      "text/plain": [
       "                     time_stamp  \\\n",
       "15302 2016-05-30 01:15:01+00:00   \n",
       "15310 2016-05-30 01:45:01+00:00   \n",
       "15311 2016-05-30 01:45:01+00:00   \n",
       "15309 2016-05-30 01:45:01+00:00   \n",
       "15312 2016-05-30 02:15:02+00:00   \n",
       "\n",
       "                                           news_headline  sentiment_class  \\\n",
       "15302  commerce ministry favours local sourcing waive...                1   \n",
       "15310  commerce ministry turns down apple?s proposal ...               -1   \n",
       "15311  nirmala sitharaman may help pave way for apple...                1   \n",
       "15309  apple?s refurbished iphone plan: govt not in f...               -1   \n",
       "15312  discussing apple's request for local sourcing ...                0   \n",
       "\n",
       "       sentiment_scores              trading_time  \n",
       "15302            0.4215 2016-05-30 09:30:00+00:00  \n",
       "15310           -0.1880 2016-05-30 09:30:00+00:00  \n",
       "15311            0.4019 2016-05-30 09:30:00+00:00  \n",
       "15309           -0.4952 2016-05-30 09:30:00+00:00  \n",
       "15312            0.0000 2016-05-30 09:30:00+00:00  "
      ]
     },
     "execution_count": 7,
     "metadata": {},
     "output_type": "execute_result"
    }
   ],
   "source": [
    "data.tail()"
   ]
  },
  {
   "cell_type": "markdown",
   "metadata": {},
   "source": [
    "## Calculate daily sentiment score\n",
    "For all the news headlines with same trading time, we will compute the mean of its sentiment class. This will be the daily sentiment score. This is one of the approaches we have followed. \n"
   ]
  },
  {
   "cell_type": "code",
   "execution_count": 8,
   "metadata": {},
   "outputs": [],
   "source": [
    "apple_daily_sentiment = data.groupby('trading_time').sentiment_class.agg('mean').to_frame('score')"
   ]
  },
  {
   "cell_type": "code",
   "execution_count": 9,
   "metadata": {},
   "outputs": [
    {
     "data": {
      "text/html": [
       "<div>\n",
       "<style scoped>\n",
       "    .dataframe tbody tr th:only-of-type {\n",
       "        vertical-align: middle;\n",
       "    }\n",
       "\n",
       "    .dataframe tbody tr th {\n",
       "        vertical-align: top;\n",
       "    }\n",
       "\n",
       "    .dataframe thead th {\n",
       "        text-align: right;\n",
       "    }\n",
       "</style>\n",
       "<table border=\"1\" class=\"dataframe\">\n",
       "  <thead>\n",
       "    <tr style=\"text-align: right;\">\n",
       "      <th></th>\n",
       "      <th>score</th>\n",
       "    </tr>\n",
       "    <tr>\n",
       "      <th>trading_time</th>\n",
       "      <th></th>\n",
       "    </tr>\n",
       "  </thead>\n",
       "  <tbody>\n",
       "    <tr>\n",
       "      <th>2014-01-28 09:30:00+00:00</th>\n",
       "      <td>0.034483</td>\n",
       "    </tr>\n",
       "    <tr>\n",
       "      <th>2014-01-29 09:30:00+00:00</th>\n",
       "      <td>0.238095</td>\n",
       "    </tr>\n",
       "    <tr>\n",
       "      <th>2014-01-30 09:30:00+00:00</th>\n",
       "      <td>0.571429</td>\n",
       "    </tr>\n",
       "    <tr>\n",
       "      <th>2014-02-03 09:30:00+00:00</th>\n",
       "      <td>-0.200000</td>\n",
       "    </tr>\n",
       "    <tr>\n",
       "      <th>2014-02-04 09:30:00+00:00</th>\n",
       "      <td>-0.500000</td>\n",
       "    </tr>\n",
       "  </tbody>\n",
       "</table>\n",
       "</div>"
      ],
      "text/plain": [
       "                              score\n",
       "trading_time                       \n",
       "2014-01-28 09:30:00+00:00  0.034483\n",
       "2014-01-29 09:30:00+00:00  0.238095\n",
       "2014-01-30 09:30:00+00:00  0.571429\n",
       "2014-02-03 09:30:00+00:00 -0.200000\n",
       "2014-02-04 09:30:00+00:00 -0.500000"
      ]
     },
     "execution_count": 9,
     "metadata": {},
     "output_type": "execute_result"
    }
   ],
   "source": [
    "apple_daily_sentiment.head()"
   ]
  },
  {
   "cell_type": "code",
   "execution_count": 10,
   "metadata": {},
   "outputs": [],
   "source": [
    "# Reset the index\n",
    "apple_daily_sentiment.reset_index(inplace=True)"
   ]
  },
  {
   "cell_type": "code",
   "execution_count": 11,
   "metadata": {},
   "outputs": [
    {
     "data": {
      "text/html": [
       "<div>\n",
       "<style scoped>\n",
       "    .dataframe tbody tr th:only-of-type {\n",
       "        vertical-align: middle;\n",
       "    }\n",
       "\n",
       "    .dataframe tbody tr th {\n",
       "        vertical-align: top;\n",
       "    }\n",
       "\n",
       "    .dataframe thead th {\n",
       "        text-align: right;\n",
       "    }\n",
       "</style>\n",
       "<table border=\"1\" class=\"dataframe\">\n",
       "  <thead>\n",
       "    <tr style=\"text-align: right;\">\n",
       "      <th></th>\n",
       "      <th>trading_time</th>\n",
       "      <th>score</th>\n",
       "    </tr>\n",
       "  </thead>\n",
       "  <tbody>\n",
       "    <tr>\n",
       "      <th>0</th>\n",
       "      <td>2014-01-28 09:30:00+00:00</td>\n",
       "      <td>0.034483</td>\n",
       "    </tr>\n",
       "    <tr>\n",
       "      <th>1</th>\n",
       "      <td>2014-01-29 09:30:00+00:00</td>\n",
       "      <td>0.238095</td>\n",
       "    </tr>\n",
       "  </tbody>\n",
       "</table>\n",
       "</div>"
      ],
      "text/plain": [
       "               trading_time     score\n",
       "0 2014-01-28 09:30:00+00:00  0.034483\n",
       "1 2014-01-29 09:30:00+00:00  0.238095"
      ]
     },
     "execution_count": 11,
     "metadata": {},
     "output_type": "execute_result"
    }
   ],
   "source": [
    "apple_daily_sentiment.head(2)"
   ]
  },
  {
   "cell_type": "code",
   "execution_count": 12,
   "metadata": {},
   "outputs": [],
   "source": [
    "# Create a column and store only dates of the trading_time for the better visualisation of the dates\n",
    "apple_daily_sentiment['Date'] = pd.to_datetime(\n",
    "    apple_daily_sentiment['trading_time']).dt.floor('d')"
   ]
  },
  {
   "cell_type": "code",
   "execution_count": 13,
   "metadata": {},
   "outputs": [
    {
     "data": {
      "text/html": [
       "<div>\n",
       "<style scoped>\n",
       "    .dataframe tbody tr th:only-of-type {\n",
       "        vertical-align: middle;\n",
       "    }\n",
       "\n",
       "    .dataframe tbody tr th {\n",
       "        vertical-align: top;\n",
       "    }\n",
       "\n",
       "    .dataframe thead th {\n",
       "        text-align: right;\n",
       "    }\n",
       "</style>\n",
       "<table border=\"1\" class=\"dataframe\">\n",
       "  <thead>\n",
       "    <tr style=\"text-align: right;\">\n",
       "      <th></th>\n",
       "      <th>trading_time</th>\n",
       "      <th>score</th>\n",
       "      <th>Date</th>\n",
       "    </tr>\n",
       "  </thead>\n",
       "  <tbody>\n",
       "    <tr>\n",
       "      <th>0</th>\n",
       "      <td>2014-01-28 09:30:00+00:00</td>\n",
       "      <td>0.034483</td>\n",
       "      <td>2014-01-28 00:00:00+00:00</td>\n",
       "    </tr>\n",
       "    <tr>\n",
       "      <th>1</th>\n",
       "      <td>2014-01-29 09:30:00+00:00</td>\n",
       "      <td>0.238095</td>\n",
       "      <td>2014-01-29 00:00:00+00:00</td>\n",
       "    </tr>\n",
       "  </tbody>\n",
       "</table>\n",
       "</div>"
      ],
      "text/plain": [
       "               trading_time     score                      Date\n",
       "0 2014-01-28 09:30:00+00:00  0.034483 2014-01-28 00:00:00+00:00\n",
       "1 2014-01-29 09:30:00+00:00  0.238095 2014-01-29 00:00:00+00:00"
      ]
     },
     "execution_count": 13,
     "metadata": {},
     "output_type": "execute_result"
    }
   ],
   "source": [
    "apple_daily_sentiment.head(2)"
   ]
  },
  {
   "cell_type": "code",
   "execution_count": 14,
   "metadata": {},
   "outputs": [],
   "source": [
    "# Remove the time zone information from the time column\n",
    "apple_daily_sentiment['Date'] = apple_daily_sentiment['Date'].apply(lambda d: d.replace(tzinfo=None))"
   ]
  },
  {
   "cell_type": "code",
   "execution_count": 15,
   "metadata": {},
   "outputs": [
    {
     "data": {
      "text/html": [
       "<div>\n",
       "<style scoped>\n",
       "    .dataframe tbody tr th:only-of-type {\n",
       "        vertical-align: middle;\n",
       "    }\n",
       "\n",
       "    .dataframe tbody tr th {\n",
       "        vertical-align: top;\n",
       "    }\n",
       "\n",
       "    .dataframe thead th {\n",
       "        text-align: right;\n",
       "    }\n",
       "</style>\n",
       "<table border=\"1\" class=\"dataframe\">\n",
       "  <thead>\n",
       "    <tr style=\"text-align: right;\">\n",
       "      <th></th>\n",
       "      <th>trading_time</th>\n",
       "      <th>score</th>\n",
       "    </tr>\n",
       "    <tr>\n",
       "      <th>Date</th>\n",
       "      <th></th>\n",
       "      <th></th>\n",
       "    </tr>\n",
       "  </thead>\n",
       "  <tbody>\n",
       "    <tr>\n",
       "      <th>2014-01-28</th>\n",
       "      <td>2014-01-28 09:30:00+00:00</td>\n",
       "      <td>0.034483</td>\n",
       "    </tr>\n",
       "    <tr>\n",
       "      <th>2014-01-29</th>\n",
       "      <td>2014-01-29 09:30:00+00:00</td>\n",
       "      <td>0.238095</td>\n",
       "    </tr>\n",
       "    <tr>\n",
       "      <th>2014-01-30</th>\n",
       "      <td>2014-01-30 09:30:00+00:00</td>\n",
       "      <td>0.571429</td>\n",
       "    </tr>\n",
       "    <tr>\n",
       "      <th>2014-02-03</th>\n",
       "      <td>2014-02-03 09:30:00+00:00</td>\n",
       "      <td>-0.200000</td>\n",
       "    </tr>\n",
       "    <tr>\n",
       "      <th>2014-02-04</th>\n",
       "      <td>2014-02-04 09:30:00+00:00</td>\n",
       "      <td>-0.500000</td>\n",
       "    </tr>\n",
       "  </tbody>\n",
       "</table>\n",
       "</div>"
      ],
      "text/plain": [
       "                        trading_time     score\n",
       "Date                                          \n",
       "2014-01-28 2014-01-28 09:30:00+00:00  0.034483\n",
       "2014-01-29 2014-01-29 09:30:00+00:00  0.238095\n",
       "2014-01-30 2014-01-30 09:30:00+00:00  0.571429\n",
       "2014-02-03 2014-02-03 09:30:00+00:00 -0.200000\n",
       "2014-02-04 2014-02-04 09:30:00+00:00 -0.500000"
      ]
     },
     "execution_count": 15,
     "metadata": {},
     "output_type": "execute_result"
    }
   ],
   "source": [
    "# Set the index\n",
    "apple_daily_sentiment.set_index(\"Date\", inplace=True)\n",
    "apple_daily_sentiment.head()"
   ]
  },
  {
   "cell_type": "markdown",
   "metadata": {},
   "source": [
    "## Store daily sentiment score in CSV file "
   ]
  },
  {
   "cell_type": "code",
   "execution_count": 18,
   "metadata": {},
   "outputs": [],
   "source": [
    "apple_daily_sentiment.to_csv('apple_daily_sentiment2.csv')"
   ]
  },
  {
   "cell_type": "code",
   "execution_count": null,
   "metadata": {},
   "outputs": [],
   "source": []
  }
 ],
 "metadata": {
  "kernelspec": {
   "display_name": "Python 3",
   "language": "python",
   "name": "python3"
  },
  "language_info": {
   "codemirror_mode": {
    "name": "ipython",
    "version": 3
   },
   "file_extension": ".py",
   "mimetype": "text/x-python",
   "name": "python",
   "nbconvert_exporter": "python",
   "pygments_lexer": "ipython3",
   "version": "3.7.3"
  }
 },
 "nbformat": 4,
 "nbformat_minor": 2
}
